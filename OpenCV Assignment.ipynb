{
 "cells": [
  {
   "cell_type": "code",
   "execution_count": 1,
   "metadata": {},
   "outputs": [
    {
     "name": "stdout",
     "output_type": "stream",
     "text": [
      "Requirement already satisfied: bokeh in c:\\users\\nilesh\\anaconda3\\lib\\site-packages (1.0.4)\n",
      "Requirement already satisfied: tornado>=4.3 in c:\\users\\nilesh\\anaconda3\\lib\\site-packages (from bokeh) (6.0.2)\n",
      "Requirement already satisfied: pillow>=4.0 in c:\\users\\nilesh\\anaconda3\\lib\\site-packages (from bokeh) (5.4.1)\n",
      "Requirement already satisfied: PyYAML>=3.10 in c:\\users\\nilesh\\anaconda3\\lib\\site-packages (from bokeh) (5.1)\n",
      "Requirement already satisfied: numpy>=1.7.1 in c:\\users\\nilesh\\anaconda3\\lib\\site-packages (from bokeh) (1.16.2)\n",
      "Requirement already satisfied: Jinja2>=2.7 in c:\\users\\nilesh\\anaconda3\\lib\\site-packages (from bokeh) (2.10)\n",
      "Requirement already satisfied: python-dateutil>=2.1 in c:\\users\\nilesh\\anaconda3\\lib\\site-packages (from bokeh) (2.8.0)\n",
      "Requirement already satisfied: packaging>=16.8 in c:\\users\\nilesh\\anaconda3\\lib\\site-packages (from bokeh) (19.0)\n",
      "Requirement already satisfied: six>=1.5.2 in c:\\users\\nilesh\\anaconda3\\lib\\site-packages (from bokeh) (1.12.0)\n",
      "Requirement already satisfied: MarkupSafe>=0.23 in c:\\users\\nilesh\\anaconda3\\lib\\site-packages (from Jinja2>=2.7->bokeh) (1.1.1)\n",
      "Requirement already satisfied: pyparsing>=2.0.2 in c:\\users\\nilesh\\anaconda3\\lib\\site-packages (from packaging>=16.8->bokeh) (2.3.1)\n",
      "Note: you may need to restart the kernel to use updated packages.\n"
     ]
    }
   ],
   "source": [
    "pip install bokeh"
   ]
  },
  {
   "cell_type": "code",
   "execution_count": 2,
   "metadata": {},
   "outputs": [],
   "source": [
    "import cv2,time,pandas"
   ]
  },
  {
   "cell_type": "code",
   "execution_count": 3,
   "metadata": {},
   "outputs": [],
   "source": [
    "from datetime import datetime"
   ]
  },
  {
   "cell_type": "code",
   "execution_count": 4,
   "metadata": {},
   "outputs": [],
   "source": [
    "first_frame=None\n",
    "status_list=[None,None]\n",
    "times=[]\n",
    "df=pandas.DataFrame(columns=[\"Start\",\"End\"])"
   ]
  },
  {
   "cell_type": "code",
   "execution_count": null,
   "metadata": {},
   "outputs": [],
   "source": []
  }
 ],
 "metadata": {
  "kernelspec": {
   "display_name": "Python 3",
   "language": "python",
   "name": "python3"
  },
  "language_info": {
   "codemirror_mode": {
    "name": "ipython",
    "version": 3
   },
   "file_extension": ".py",
   "mimetype": "text/x-python",
   "name": "python",
   "nbconvert_exporter": "python",
   "pygments_lexer": "ipython3",
   "version": "3.7.3"
  }
 },
 "nbformat": 4,
 "nbformat_minor": 2
}
