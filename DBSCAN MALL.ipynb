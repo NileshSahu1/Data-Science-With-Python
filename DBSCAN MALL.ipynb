{
 "cells": [
  {
   "cell_type": "code",
   "execution_count": 72,
   "metadata": {},
   "outputs": [],
   "source": [
    "#DBSCAN=>Density Based Spatial Clustering of Applications with Noise\n",
    "import pandas as pd\n",
    "import numpy as np\n",
    "import matplotlib.pyplot as plt\n",
    "import seaborn as sns"
   ]
  },
  {
   "cell_type": "code",
   "execution_count": 3,
   "metadata": {},
   "outputs": [
    {
     "data": {
      "text/html": [
       "<div>\n",
       "<style scoped>\n",
       "    .dataframe tbody tr th:only-of-type {\n",
       "        vertical-align: middle;\n",
       "    }\n",
       "\n",
       "    .dataframe tbody tr th {\n",
       "        vertical-align: top;\n",
       "    }\n",
       "\n",
       "    .dataframe thead th {\n",
       "        text-align: right;\n",
       "    }\n",
       "</style>\n",
       "<table border=\"1\" class=\"dataframe\">\n",
       "  <thead>\n",
       "    <tr style=\"text-align: right;\">\n",
       "      <th></th>\n",
       "      <th>CustomerID</th>\n",
       "      <th>Genre</th>\n",
       "      <th>Age</th>\n",
       "      <th>Annual Income (k$)</th>\n",
       "      <th>Spending Score (1-100)</th>\n",
       "    </tr>\n",
       "  </thead>\n",
       "  <tbody>\n",
       "    <tr>\n",
       "      <th>0</th>\n",
       "      <td>1</td>\n",
       "      <td>Male</td>\n",
       "      <td>19</td>\n",
       "      <td>15</td>\n",
       "      <td>39</td>\n",
       "    </tr>\n",
       "    <tr>\n",
       "      <th>1</th>\n",
       "      <td>2</td>\n",
       "      <td>Male</td>\n",
       "      <td>21</td>\n",
       "      <td>15</td>\n",
       "      <td>81</td>\n",
       "    </tr>\n",
       "    <tr>\n",
       "      <th>2</th>\n",
       "      <td>3</td>\n",
       "      <td>Female</td>\n",
       "      <td>20</td>\n",
       "      <td>16</td>\n",
       "      <td>6</td>\n",
       "    </tr>\n",
       "    <tr>\n",
       "      <th>3</th>\n",
       "      <td>4</td>\n",
       "      <td>Female</td>\n",
       "      <td>23</td>\n",
       "      <td>16</td>\n",
       "      <td>77</td>\n",
       "    </tr>\n",
       "    <tr>\n",
       "      <th>4</th>\n",
       "      <td>5</td>\n",
       "      <td>Female</td>\n",
       "      <td>31</td>\n",
       "      <td>17</td>\n",
       "      <td>40</td>\n",
       "    </tr>\n",
       "  </tbody>\n",
       "</table>\n",
       "</div>"
      ],
      "text/plain": [
       "   CustomerID   Genre  Age  Annual Income (k$)  Spending Score (1-100)\n",
       "0           1    Male   19                  15                      39\n",
       "1           2    Male   21                  15                      81\n",
       "2           3  Female   20                  16                       6\n",
       "3           4  Female   23                  16                      77\n",
       "4           5  Female   31                  17                      40"
      ]
     },
     "execution_count": 3,
     "metadata": {},
     "output_type": "execute_result"
    }
   ],
   "source": [
    "data=pd.read_csv('Mall_Customers.csv')\n",
    "data.head()"
   ]
  },
  {
   "cell_type": "code",
   "execution_count": 24,
   "metadata": {},
   "outputs": [],
   "source": [
    "df=data.groupby('Genre')"
   ]
  },
  {
   "cell_type": "code",
   "execution_count": 56,
   "metadata": {},
   "outputs": [
    {
     "data": {
      "text/plain": [
       "Genre\n",
       "Female    5771\n",
       "Male      4269\n",
       "Name: Spending Score (1-100), dtype: int64"
      ]
     },
     "execution_count": 56,
     "metadata": {},
     "output_type": "execute_result"
    }
   ],
   "source": [
    "df['Spending Score (1-100)'].agg(np.sum)"
   ]
  },
  {
   "cell_type": "code",
   "execution_count": 55,
   "metadata": {},
   "outputs": [
    {
     "data": {
      "text/plain": [
       "Genre\n",
       "Female    6636\n",
       "Male      5476\n",
       "Name: Annual Income (k$), dtype: int64"
      ]
     },
     "execution_count": 55,
     "metadata": {},
     "output_type": "execute_result"
    }
   ],
   "source": [
    "df['Annual Income (k$)'].agg(np.sum)"
   ]
  },
  {
   "cell_type": "code",
   "execution_count": 34,
   "metadata": {},
   "outputs": [
    {
     "data": {
      "text/plain": [
       "<matplotlib.axes._subplots.AxesSubplot at 0x1eb7249c828>"
      ]
     },
     "execution_count": 34,
     "metadata": {},
     "output_type": "execute_result"
    },
    {
     "data": {
      "image/png": "[encoded data removed]",
      "text/plain": [
       "<Figure size 864x576 with 2 Axes>"
      ]
     },
     "metadata": {
      "needs_background": "light"
     },
     "output_type": "display_data"
    }
   ],
   "source": [
    "fig, axes=plt.subplots(1,2, figsize=(12,8))\n",
    "sns.boxplot(x='Genre',y=\"Annual Income (k$)\",data=data,orient='v',ax=axes[0])\n",
    "\n",
    "sns.boxplot(x='Genre',y=\"Spending Score (1-100)\",data=data,orient='v',ax=axes[1])"
   ]
  },
  {
   "cell_type": "code",
   "execution_count": 41,
   "metadata": {},
   "outputs": [
    {
     "data": {
      "text/html": [
       "<div>\n",
       "<style scoped>\n",
       "    .dataframe tbody tr th:only-of-type {\n",
       "        vertical-align: middle;\n",
       "    }\n",
       "\n",
       "    .dataframe tbody tr th {\n",
       "        vertical-align: top;\n",
       "    }\n",
       "\n",
       "    .dataframe thead th {\n",
       "        text-align: right;\n",
       "    }\n",
       "</style>\n",
       "<table border=\"1\" class=\"dataframe\">\n",
       "  <thead>\n",
       "    <tr style=\"text-align: right;\">\n",
       "      <th></th>\n",
       "      <th>Genre</th>\n",
       "      <th>Spending Score (1-100)</th>\n",
       "      <th>Annual Income (k$)</th>\n",
       "    </tr>\n",
       "  </thead>\n",
       "  <tbody>\n",
       "    <tr>\n",
       "      <th>0</th>\n",
       "      <td>Female</td>\n",
       "      <td>51.526786</td>\n",
       "      <td>59.250000</td>\n",
       "    </tr>\n",
       "    <tr>\n",
       "      <th>1</th>\n",
       "      <td>Male</td>\n",
       "      <td>48.511364</td>\n",
       "      <td>62.227273</td>\n",
       "    </tr>\n",
       "  </tbody>\n",
       "</table>\n",
       "</div>"
      ],
      "text/plain": [
       "    Genre  Spending Score (1-100)  Annual Income (k$)\n",
       "0  Female               51.526786           59.250000\n",
       "1    Male               48.511364           62.227273"
      ]
     },
     "execution_count": 41,
     "metadata": {},
     "output_type": "execute_result"
    }
   ],
   "source": [
    "gg=data[['Genre','Spending Score (1-100)','Annual Income (k$)']]\n",
    "gg.groupby(['Genre'],as_index=False).mean()"
   ]
  },
  {
   "cell_type": "code",
   "execution_count": 47,
   "metadata": {},
   "outputs": [
    {
     "name": "stdout",
     "output_type": "stream",
     "text": [
      "(112, 5)\n"
     ]
    },
    {
     "data": {
      "text/html": [
       "<div>\n",
       "<style scoped>\n",
       "    .dataframe tbody tr th:only-of-type {\n",
       "        vertical-align: middle;\n",
       "    }\n",
       "\n",
       "    .dataframe tbody tr th {\n",
       "        vertical-align: top;\n",
       "    }\n",
       "\n",
       "    .dataframe thead th {\n",
       "        text-align: right;\n",
       "    }\n",
       "</style>\n",
       "<table border=\"1\" class=\"dataframe\">\n",
       "  <thead>\n",
       "    <tr style=\"text-align: right;\">\n",
       "      <th></th>\n",
       "      <th>CustomerID</th>\n",
       "      <th>Genre</th>\n",
       "      <th>Age</th>\n",
       "      <th>Annual Income (k$)</th>\n",
       "      <th>Spending Score (1-100)</th>\n",
       "    </tr>\n",
       "  </thead>\n",
       "  <tbody>\n",
       "    <tr>\n",
       "      <th>2</th>\n",
       "      <td>3</td>\n",
       "      <td>Female</td>\n",
       "      <td>20</td>\n",
       "      <td>16</td>\n",
       "      <td>6</td>\n",
       "    </tr>\n",
       "    <tr>\n",
       "      <th>3</th>\n",
       "      <td>4</td>\n",
       "      <td>Female</td>\n",
       "      <td>23</td>\n",
       "      <td>16</td>\n",
       "      <td>77</td>\n",
       "    </tr>\n",
       "    <tr>\n",
       "      <th>4</th>\n",
       "      <td>5</td>\n",
       "      <td>Female</td>\n",
       "      <td>31</td>\n",
       "      <td>17</td>\n",
       "      <td>40</td>\n",
       "    </tr>\n",
       "    <tr>\n",
       "      <th>5</th>\n",
       "      <td>6</td>\n",
       "      <td>Female</td>\n",
       "      <td>22</td>\n",
       "      <td>17</td>\n",
       "      <td>76</td>\n",
       "    </tr>\n",
       "    <tr>\n",
       "      <th>6</th>\n",
       "      <td>7</td>\n",
       "      <td>Female</td>\n",
       "      <td>35</td>\n",
       "      <td>18</td>\n",
       "      <td>6</td>\n",
       "    </tr>\n",
       "  </tbody>\n",
       "</table>\n",
       "</div>"
      ],
      "text/plain": [
       "   CustomerID   Genre  Age  Annual Income (k$)  Spending Score (1-100)\n",
       "2           3  Female   20                  16                       6\n",
       "3           4  Female   23                  16                      77\n",
       "4           5  Female   31                  17                      40\n",
       "5           6  Female   22                  17                      76\n",
       "6           7  Female   35                  18                       6"
      ]
     },
     "execution_count": 47,
     "metadata": {},
     "output_type": "execute_result"
    }
   ],
   "source": [
    "female=data[data['Genre']=='Female']\n",
    "print(female.shape)\n",
    "female.head()"
   ]
  },
  {
   "cell_type": "code",
   "execution_count": 52,
   "metadata": {},
   "outputs": [
    {
     "name": "stdout",
     "output_type": "stream",
     "text": [
      "female percentage: 56 %\n"
     ]
    }
   ],
   "source": [
    "percentage=(female.shape[0]/data.shape[0])*100\n",
    "print('female percentage:',round(percentage),'%')"
   ]
  },
  {
   "cell_type": "code",
   "execution_count": 54,
   "metadata": {},
   "outputs": [
    {
     "data": {
      "text/plain": [
       "Female    0.56\n",
       "Male      0.44\n",
       "Name: Genre, dtype: float64"
      ]
     },
     "execution_count": 54,
     "metadata": {},
     "output_type": "execute_result"
    }
   ],
   "source": [
    "data['Genre'].value_counts(normalize=True)"
   ]
  },
  {
   "cell_type": "code",
   "execution_count": null,
   "metadata": {},
   "outputs": [],
   "source": []
  },
  {
   "cell_type": "code",
   "execution_count": 58,
   "metadata": {},
   "outputs": [],
   "source": [
    "from sklearn.cluster import DBSCAN\n",
    "import sklearn.utils"
   ]
  },
  {
   "cell_type": "code",
   "execution_count": 59,
   "metadata": {},
   "outputs": [
    {
     "name": "stderr",
     "output_type": "stream",
     "text": [
      "C:\\Users\\NILESH\\Anaconda3\\lib\\site-packages\\sklearn\\utils\\validation.py:595: DataConversionWarning: Data with input dtype int64 was converted to float64 by StandardScaler.\n",
      "  warnings.warn(msg, DataConversionWarning)\n",
      "C:\\Users\\NILESH\\Anaconda3\\lib\\site-packages\\sklearn\\utils\\validation.py:595: DataConversionWarning: Data with input dtype int64 was converted to float64 by StandardScaler.\n",
      "  warnings.warn(msg, DataConversionWarning)\n"
     ]
    },
    {
     "data": {
      "text/plain": [
       "array([[-1.43779008, -1.67017007, -1.89639214],\n",
       "       [-1.19945882, -1.67017007,  1.06107213],\n",
       "       [-0.56390879, -1.63155343, -0.48014165],\n",
       "       [-1.27890257, -1.63155343,  1.0194177 ],\n",
       "       [-0.24613377, -1.59293678, -1.89639214],\n",
       "       [-1.19945882, -1.59293678,  1.76919738],\n",
       "       [-0.64335254, -1.55432013,  0.8528    ],\n",
       "       [-0.24613377, -1.55432013,  1.97746951],\n",
       "       [ 1.58107256, -1.51570348, -1.52150231],\n",
       "       [-1.12001506, -1.51570348,  1.06107213],\n",
       "       [-0.24613377, -1.47708683, -0.68841378],\n",
       "       [-0.24613377, -1.39985353,  1.93581508],\n",
       "       [ 0.62774752, -1.32262023, -1.93804657],\n",
       "       [ 1.26329755, -1.20677029, -1.56315673],\n",
       "       [ 0.54830376, -1.20677029, -0.81337706],\n",
       "       [ 0.151085  , -1.16815364, -0.85503148],\n",
       "       [-1.19945882, -1.16815364,  1.47761639],\n",
       "       [-1.35834632, -1.12953699,  0.89445442],\n",
       "       [ 0.86607878, -1.01368704, -1.56315673],\n",
       "       [-1.35834632, -1.01368704,  1.22768984],\n",
       "       [ 0.3099725 , -0.97507039, -1.43819345],\n",
       "       [-0.64335254, -0.97507039,  0.89445442],\n",
       "       [-0.16669002, -0.85922044, -1.06330362],\n",
       "       [-1.43779008, -0.85922044,  0.97776328],\n",
       "       [ 2.13717884, -0.82060379, -0.68841378],\n",
       "       [-0.56390879, -0.78198714,  0.39460131],\n",
       "       [ 0.86607878, -0.78198714, -0.97999476],\n",
       "       [-1.12001506, -0.78198714,  0.56121901],\n",
       "       [ 0.94552253, -0.7433705 ,  0.14467475],\n",
       "       [-0.8816838 , -0.7433705 , -0.18856066],\n",
       "       [-0.72279629, -0.7433705 , -0.39683279],\n",
       "       [-0.56390879, -0.7433705 , -0.39683279],\n",
       "       [ 0.86607878, -0.6661372 ,  0.01971147],\n",
       "       [-0.56390879, -0.62752055,  0.10302032],\n",
       "       [ 0.94552253, -0.62752055, -0.27186952],\n",
       "       [ 1.02496629, -0.5889039 , -0.06359738],\n",
       "       [-0.8816838 , -0.5116706 , -0.02194296],\n",
       "       [ 2.29606634, -0.47305395,  0.01971147],\n",
       "       [ 1.26329755, -0.47305395,  0.31129245],\n",
       "       [ 0.38941626, -0.4344373 , -0.06359738],\n",
       "       [ 2.3755101 , -0.4344373 , -0.14690624],\n",
       "       [-0.48446503, -0.4344373 , -0.18856066],\n",
       "       [ 0.70719127, -0.39582065, -0.39683279],\n",
       "       [ 1.73996007, -0.357204  , -0.10525181],\n",
       "       [ 1.73996007, -0.357204  ,  0.18632918],\n",
       "       [ 0.54830376, -0.20273741,  0.0613659 ],\n",
       "       [-1.19945882, -0.20273741,  0.01971147],\n",
       "       [ 0.86607878, -0.20273741, -0.39683279],\n",
       "       [ 0.62774752, -0.20273741, -0.31352394],\n",
       "       [-1.35834632, -0.20273741,  0.2279836 ],\n",
       "       [ 1.3427413 , -0.08688746,  0.26963803],\n",
       "       [-1.27890257, -0.08688746,  0.14467475],\n",
       "       [-0.32557753, -0.04827081,  0.35294688],\n",
       "       [ 0.94552253, -0.04827081, -0.23021509],\n",
       "       [ 2.3755101 , -0.00965416,  0.14467475],\n",
       "       [ 0.151085  ,  0.02896249, -0.48014165],\n",
       "       [-0.48446503,  0.02896249, -0.39683279],\n",
       "       [ 0.70719127,  0.02896249, -0.18856066],\n",
       "       [-0.8816838 ,  0.02896249, -0.06359738],\n",
       "       [-1.19945882,  0.10619579, -0.43848722],\n",
       "       [ 0.86607878,  0.10619579, -0.14690624],\n",
       "       [-1.35834632,  0.10619579, -0.39683279],\n",
       "       [ 2.21662259,  0.14481243, -0.06359738],\n",
       "       [-1.51723383,  0.14481243,  0.10302032],\n",
       "       [-0.00780251,  0.18342908, -0.39683279],\n",
       "       [-1.59667758,  0.22204573, -0.14690624],\n",
       "       [-1.51723383,  0.22204573, -0.06359738],\n",
       "       [ 1.97829133,  0.22204573, -0.35517837],\n",
       "       [ 0.86607878,  0.22204573,  0.31129245],\n",
       "       [ 1.02496629,  0.29927903, -0.35517837],\n",
       "       [ 0.94552253,  0.29927903,  0.2279836 ],\n",
       "       [-0.00780251,  0.29927903, -0.48014165],\n",
       "       [ 0.151085  ,  0.37651233,  0.26963803],\n",
       "       [-1.19945882,  0.41512898, -0.93834034],\n",
       "       [-0.56390879,  0.41512898,  1.06107213],\n",
       "       [-1.04057131,  0.49236228, -0.73006821],\n",
       "       [-0.56390879,  0.49236228,  0.81114557],\n",
       "       [-0.72279629,  0.53097893,  1.51927082],\n",
       "       [ 0.46886001,  0.53097893, -1.85473772],\n",
       "       [-0.24613377,  0.56959557,  0.8528    ],\n",
       "       [ 1.50162881,  0.60821222, -1.93804657],\n",
       "       [-0.80224005,  0.64682887, -0.48014165],\n",
       "       [-0.48446503,  0.64682887,  1.47761639],\n",
       "       [-0.48446503,  0.68544552,  0.93610885],\n",
       "       [-0.32557753,  0.72406217, -1.22992132],\n",
       "       [ 0.46886001,  0.72406217, -1.31323017],\n",
       "       [-0.00780251,  0.72406217,  1.0194177 ],\n",
       "       [ 0.70719127,  0.72406217, -1.47984788],\n",
       "       [-0.8816838 ,  0.72406217,  1.56092525],\n",
       "       [-0.64335254,  0.72406217,  1.10272656],\n",
       "       [-0.64335254,  0.72406217,  0.89445442],\n",
       "       [ 1.42218505,  0.76267882, -0.68841378],\n",
       "       [-0.72279629,  0.76267882,  1.31099869],\n",
       "       [-0.56390879,  0.83991212,  1.72754295],\n",
       "       [-0.16669002,  0.99437871,  0.97776328],\n",
       "       [-0.40502128,  1.03299536,  1.8108518 ],\n",
       "       [-0.16669002,  1.07161201, -1.02164919],\n",
       "       [ 1.10441004,  1.11022866, -1.60481116],\n",
       "       [-0.64335254,  1.11022866,  1.43596197],\n",
       "       [-0.08724627,  1.4577785 , -0.81337706],\n",
       "       [-0.48446503,  1.4577785 ,  1.43596197],\n",
       "       [-0.72279629,  1.49639515,  1.51927082],\n",
       "       [ 0.23052875,  1.5350118 , -0.52179607],\n",
       "       [ 1.26329755,  1.6122451 , -1.14661247],\n",
       "       [ 0.23052875,  1.6894784 , -1.43819345],\n",
       "       [-0.16669002,  1.6894784 ,  1.39430754],\n",
       "       [-0.32557753,  1.6894784 , -1.1882669 ],\n",
       "       [-0.48446503,  1.6894784 ,  0.72783672],\n",
       "       [-0.00780251,  2.07564489,  1.6442341 ],\n",
       "       [ 0.70719127,  2.34596143, -1.47984788],\n",
       "       [-0.24613377,  2.34596143,  1.14438098],\n",
       "       [ 0.54830376,  2.57766133, -0.97999476]])"
      ]
     },
     "execution_count": 59,
     "metadata": {},
     "output_type": "execute_result"
    }
   ],
   "source": [
    "from sklearn.preprocessing import StandardScaler\n",
    "clus_data=female[['Age','Annual Income (k$)','Spending Score (1-100)']]\n",
    "clus_data=np.nan_to_num(clus_data)\n",
    "clus_data=np.array(clus_data)\n",
    "clus_data=StandardScaler().fit_transform(clus_data)\n",
    "clus_data"
   ]
  },
  {
   "cell_type": "code",
   "execution_count": 63,
   "metadata": {},
   "outputs": [
    {
     "name": "stderr",
     "output_type": "stream",
     "text": [
      "C:\\Users\\NILESH\\Anaconda3\\lib\\site-packages\\ipykernel_launcher.py:10: SettingWithCopyWarning: \n",
      "A value is trying to be set on a copy of a slice from a DataFrame.\n",
      "Try using .loc[row_indexer,col_indexer] = value instead\n",
      "\n",
      "See the caveats in the documentation: http://pandas.pydata.org/pandas-docs/stable/indexing.html#indexing-view-versus-copy\n",
      "  # Remove the CWD from sys.path while we load stuff.\n"
     ]
    }
   ],
   "source": [
    "# Compute DBSCAN\n",
    "db = DBSCAN(eps=0.5, min_samples=4).fit(clus_data)\n",
    "\n",
    "core_samples_mask = np.zeros_like(db.labels_, dtype=bool)\n",
    "\n",
    "core_samples_mask[db.core_sample_indices_] = True\n",
    "\n",
    "labels = db.labels_\n",
    "\n",
    "female['Clus_Db']=labels\n",
    "\n"
   ]
  },
  {
   "cell_type": "code",
   "execution_count": 68,
   "metadata": {},
   "outputs": [
    {
     "name": "stdout",
     "output_type": "stream",
     "text": [
      "   Age  Annual Income (k$)  Spending Score (1-100)  Clus_Db\n",
      "2   20                  16                       6       -1\n",
      "3   23                  16                      77        0\n",
      "4   31                  17                      40       -1\n",
      "5   22                  17                      76        0\n",
      "6   35                  18                       6       -1\n",
      "number of labels:  {0, 1, 2, 3, -1}\n"
     ]
    }
   ],
   "source": [
    "# A sample of clusters\n",
    "print(female[['Age','Annual Income (k$)','Spending Score (1-100)',\n",
    "                 'Clus_Db']].head())\n",
    "\n",
    "# number of labels\n",
    "print(\"number of labels: \", set(labels))\n"
   ]
  },
  {
   "cell_type": "code",
   "execution_count": 70,
   "metadata": {},
   "outputs": [],
   "source": [
    "realClusterNum=len(set(labels)) - (1 if -1 in labels else 0)\n",
    "clusterNum = len(set(labels))\n"
   ]
  },
  {
   "cell_type": "code",
   "execution_count": 71,
   "metadata": {},
   "outputs": [
    {
     "data": {
      "image/png": "[encoded data removed]",
      "text/plain": [
       "<Figure size 432x288 with 1 Axes>"
      ]
     },
     "metadata": {
      "needs_background": "light"
     },
     "output_type": "display_data"
    },
    {
     "name": "stdout",
     "output_type": "stream",
     "text": [
      "number of noise(s):  54\n"
     ]
    }
   ],
   "source": [
    "# Black removed and is used for noise instead.\n",
    "unique_labels = set(labels)\n",
    "colors = [plt.cm.Spectral(each)\n",
    "          for each in np.linspace(0, 1, len(unique_labels))]\n",
    "for k, col in zip(unique_labels, colors):\n",
    "    if k == -1:\n",
    "        # Black used for noise.\n",
    "        col = [0, 0, 0, 1]\n",
    "\n",
    "    class_member_mask = (labels == k)\n",
    "\n",
    "    xy = clus_data[class_member_mask & core_samples_mask]\n",
    "    plt.plot(xy[:, 0], xy[:, 1], 'o', markerfacecolor=tuple(col),\n",
    "             markeredgecolor='k', markersize=14)\n",
    "\n",
    "    xy = clus_data[class_member_mask & ~core_samples_mask]\n",
    "    plt.plot(xy[:, 0], xy[:, 1], 'o', markerfacecolor=tuple(col),\n",
    "             markeredgecolor='k', markersize=6)\n",
    "\n",
    "plt.title('Estimated number of clusters: %d' % realClusterNum)\n",
    "plt.show()\n",
    "\n",
    "n_noise = list(labels).count(-1)\n",
    "print('number of noise(s): ', n_noise)\n",
    "\n"
   ]
  },
  {
   "cell_type": "code",
   "execution_count": null,
   "metadata": {},
   "outputs": [],
   "source": []
  }
 ],
 "metadata": {
  "kernelspec": {
   "display_name": "Python 3",
   "language": "python",
   "name": "python3"
  },
  "language_info": {
   "codemirror_mode": {
    "name": "ipython",
    "version": 3
   },
   "file_extension": ".py",
   "mimetype": "text/x-python",
   "name": "python",
   "nbconvert_exporter": "python",
   "pygments_lexer": "ipython3",
   "version": "3.7.3"
  }
 },
 "nbformat": 4,
 "nbformat_minor": 2
}
