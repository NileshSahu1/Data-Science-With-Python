{
 "cells": [
  {
   "cell_type": "code",
   "execution_count": 1,
   "metadata": {},
   "outputs": [
    {
     "name": "stdout",
     "output_type": "stream",
     "text": [
      "<class '__main__.computer'>\n"
     ]
    }
   ],
   "source": [
    "#humans are class... nilesh ganesh are all objects\n",
    "class computer:\n",
    "    def config():\n",
    "        print(\"i3,4gb,1TB\")\n",
    "        \n",
    "com1 = computer()\n",
    "print(type(com1))\n",
    "\n",
    "\n"
   ]
  },
  {
   "cell_type": "code",
   "execution_count": 2,
   "metadata": {},
   "outputs": [
    {
     "name": "stdout",
     "output_type": "stream",
     "text": [
      "i3,4gb,1TB\n"
     ]
    }
   ],
   "source": [
    "class computer:\n",
    "    def config(self):           #instance variable\n",
    "        print(\"i3,4gb,1TB\")\n",
    "        \n",
    "com1 = computer()               #constructor\n",
    "computer.config(com1)"
   ]
  },
  {
   "cell_type": "code",
   "execution_count": 3,
   "metadata": {},
   "outputs": [
    {
     "name": "stdout",
     "output_type": "stream",
     "text": [
      "i3,4gb,1TB\n"
     ]
    }
   ],
   "source": [
    "com1.config()"
   ]
  },
  {
   "cell_type": "code",
   "execution_count": 8,
   "metadata": {},
   "outputs": [
    {
     "name": "stdout",
     "output_type": "stream",
     "text": [
      "i3,4gb,2tb\n",
      "i3,4gb,1tb\n"
     ]
    }
   ],
   "source": [
    "class computer:\n",
    "    def config(self):\n",
    "        print(\"i3,4gb,1tb\")\n",
    "    \n",
    "    def __init__(self):        # init will intialize first\n",
    "        print(\"i3,4gb,2tb\")\n",
    "com1=computer()\n",
    "computer.config(com1)"
   ]
  },
  {
   "cell_type": "code",
   "execution_count": 14,
   "metadata": {},
   "outputs": [
    {
     "name": "stdout",
     "output_type": "stream",
     "text": [
      "Config is: i3 4\n",
      "Config is: i3 4\n"
     ]
    }
   ],
   "source": [
    "class computer:\n",
    "    def __init__(self,ram,cpu):\n",
    "        self.ram=ram\n",
    "        self.cpu=cpu\n",
    "        \n",
    "    def config(self):\n",
    "        print(\"Config is:\",self.ram,self.cpu)\n",
    "com1=computer('i3',4)\n",
    "com2=computer('i5',8)\n",
    "\n",
    "com1.config()\n",
    "com1.config()        "
   ]
  },
  {
   "cell_type": "code",
   "execution_count": 25,
   "metadata": {},
   "outputs": [
    {
     "name": "stdout",
     "output_type": "stream",
     "text": [
      "Emp:- Amit Kumar 10000\n",
      "Emp:- Pooja Yadav 20000\n",
      "10000\n",
      "20800.0\n"
     ]
    },
    {
     "ename": "AttributeError",
     "evalue": "'employee' object has no attribute 'apply_raise'",
     "output_type": "error",
     "traceback": [
      "\u001b[1;31m---------------------------------------------------------------------------\u001b[0m",
      "\u001b[1;31mAttributeError\u001b[0m                            Traceback (most recent call last)",
      "\u001b[1;32m<ipython-input-25-ff05c70c525f>\u001b[0m in \u001b[0;36m<module>\u001b[1;34m\u001b[0m\n\u001b[0;32m     24\u001b[0m \u001b[0mprint\u001b[0m\u001b[1;33m(\u001b[0m\u001b[0memp1\u001b[0m\u001b[1;33m.\u001b[0m\u001b[0msal\u001b[0m\u001b[1;33m)\u001b[0m\u001b[1;33m\u001b[0m\u001b[1;33m\u001b[0m\u001b[0m\n\u001b[0;32m     25\u001b[0m \u001b[0mprint\u001b[0m\u001b[1;33m(\u001b[0m\u001b[0memp2\u001b[0m\u001b[1;33m.\u001b[0m\u001b[0msal\u001b[0m  \u001b[1;33m*\u001b[0m \u001b[0mraise_amount\u001b[0m\u001b[1;33m)\u001b[0m\u001b[1;33m\u001b[0m\u001b[1;33m\u001b[0m\u001b[0m\n\u001b[1;32m---> 26\u001b[1;33m \u001b[0memp1\u001b[0m\u001b[1;33m.\u001b[0m\u001b[0mapply_raise\u001b[0m\u001b[1;33m(\u001b[0m\u001b[1;33m)\u001b[0m\u001b[1;33m\u001b[0m\u001b[1;33m\u001b[0m\u001b[0m\n\u001b[0m\u001b[0;32m     27\u001b[0m \u001b[0mprint\u001b[0m\u001b[1;33m(\u001b[0m\u001b[1;34m\"Raise of Emp1 :\"\u001b[0m\u001b[1;33m,\u001b[0m \u001b[0memp1\u001b[0m\u001b[1;33m.\u001b[0m\u001b[0msal\u001b[0m\u001b[1;33m)\u001b[0m\u001b[1;33m\u001b[0m\u001b[1;33m\u001b[0m\u001b[0m\n\u001b[0;32m     28\u001b[0m \u001b[0memp1\u001b[0m\u001b[1;33m.\u001b[0m\u001b[0mfullname\u001b[0m\u001b[1;33m(\u001b[0m\u001b[1;33m)\u001b[0m\u001b[1;33m\u001b[0m\u001b[1;33m\u001b[0m\u001b[0m\n",
      "\u001b[1;31mAttributeError\u001b[0m: 'employee' object has no attribute 'apply_raise'"
     ]
    }
   ],
   "source": [
    "#inheritance...salary increase\n",
    "raise_amount=1.04\n",
    "class employee:\n",
    "    def __init__(self,first,last,sal):\n",
    "        self.first=first\n",
    "        self.last=last\n",
    "        self.sal=sal\n",
    "    \n",
    "    def config(self):\n",
    "        print(\"Emp:-\",self.first,self.last,self.sal)\n",
    "        \n",
    "emp1=employee('Amit','Kumar',10000)\n",
    "emp2=employee('Pooja','Yadav',20000)\n",
    "\n",
    "emp1.config()\n",
    "emp2.config()\n",
    "\n",
    "def apply_raise(self):\n",
    "    self.sal=int(self.sal * raise_amount)\n",
    "    \n",
    "emp1=employee('Amit','Kumar',10000)\n",
    "emp2=employee('Pooja','Yadav',20000)\n",
    "\n",
    "print(emp1.sal)\n",
    "print(emp2.sal  * raise_amount)\n",
    "emp1.apply_raise() \n",
    "print(\"Raise of Emp1 :\", emp1.sal)\n",
    "emp1.fullname()\n",
    "\n",
    "\n",
    "\n"
   ]
  },
  {
   "cell_type": "code",
   "execution_count": null,
   "metadata": {},
   "outputs": [],
   "source": [
    "class developer(employee):\n",
    "    raise_amount=1.10\n",
    "empl1"
   ]
  }
 ],
 "metadata": {
  "kernelspec": {
   "display_name": "Python 3",
   "language": "python",
   "name": "python3"
  },
  "language_info": {
   "codemirror_mode": {
    "name": "ipython",
    "version": 3
   },
   "file_extension": ".py",
   "mimetype": "text/x-python",
   "name": "python",
   "nbconvert_exporter": "python",
   "pygments_lexer": "ipython3",
   "version": "3.7.3"
  }
 },
 "nbformat": 4,
 "nbformat_minor": 2
}
