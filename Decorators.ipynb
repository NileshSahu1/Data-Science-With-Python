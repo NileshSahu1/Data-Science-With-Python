{
 "cells": [
  {
   "cell_type": "code",
   "execution_count": 13,
   "metadata": {},
   "outputs": [
    {
     "data": {
      "text/plain": [
       "'Thursday'"
      ]
     },
     "execution_count": 13,
     "metadata": {},
     "output_type": "execute_result"
    }
   ],
   "source": [
    "#switch case statement\n",
    "def week(i):\n",
    "    switcher={\n",
    "        0:'Sunday',\n",
    "        1:'Monday',\n",
    "        2:'Tuesday',\n",
    "        3:'Wednesday',\n",
    "        4:'Thursday',\n",
    "        5:'Friday',\n",
    "        6:'saturday',\n",
    "    }\n",
    "    return switcher.get(i,\"invalid day of week\")\n",
    "week(4)"
   ]
  },
  {
   "cell_type": "code",
   "execution_count": 11,
   "metadata": {},
   "outputs": [
    {
     "name": "stdout",
     "output_type": "stream",
     "text": [
      "enter choice:0\n",
      "hello\n"
     ]
    }
   ],
   "source": [
    "def a():\n",
    "    return 'hello'\n",
    "def b():\n",
    "    return 'bye'\n",
    "def xyz(i):\n",
    "    switcher={\n",
    "        0:a(),\n",
    "        1:b(),\n",
    "        2:'TWO'\n",
    "    }\n",
    "    return switcher.get(i,\"invalid input\")\n",
    "n=int(input(\"enter choice:\"))\n",
    "c=xyz(n)\n",
    "print(c)"
   ]
  },
  {
   "cell_type": "code",
   "execution_count": null,
   "metadata": {},
   "outputs": [],
   "source": []
  }
 ],
 "metadata": {
  "kernelspec": {
   "display_name": "Python 3",
   "language": "python",
   "name": "python3"
  },
  "language_info": {
   "codemirror_mode": {
    "name": "ipython",
    "version": 3
   },
   "file_extension": ".py",
   "mimetype": "text/x-python",
   "name": "python",
   "nbconvert_exporter": "python",
   "pygments_lexer": "ipython3",
   "version": "3.7.3"
  }
 },
 "nbformat": 4,
 "nbformat_minor": 2
}
